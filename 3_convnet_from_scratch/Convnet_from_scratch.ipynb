{
  "nbformat": 4,
  "nbformat_minor": 0,
  "metadata": {
    "colab": {
      "name": "Convnet_from_scratch.ipynb",
      "provenance": []
    },
    "kernelspec": {
      "name": "python3",
      "display_name": "Python 3"
    },
    "language_info": {
      "name": "python"
    },
    "accelerator": "GPU"
  },
  "cells": [
    {
      "cell_type": "code",
      "metadata": {
        "colab": {
          "base_uri": "https://localhost:8080/"
        },
        "id": "-woizqr0j1jC",
        "outputId": "4d7679ab-c0a0-42b2-b9cc-b771d290475d"
      },
      "source": [
        "from google.colab import drive\n",
        "drive.mount('/gdrive')\n",
        "!ln -s \"/gdrive/My Drive/Schilderijen-Classificeren\" \"/content/drive\""
      ],
      "execution_count": 1,
      "outputs": [
        {
          "output_type": "stream",
          "name": "stdout",
          "text": [
            "Mounted at /gdrive\n"
          ]
        }
      ]
    },
    {
      "cell_type": "code",
      "metadata": {
        "id": "boc5JUJlkxU6"
      },
      "source": [
        "import shutil\n",
        "shutil.unpack_archive('drive/Picasso_Rubens_400_100_100.zip','.','zip')"
      ],
      "execution_count": 2,
      "outputs": []
    },
    {
      "cell_type": "code",
      "metadata": {
        "colab": {
          "base_uri": "https://localhost:8080/"
        },
        "id": "qKO68t1wkjSx",
        "outputId": "43dee61b-90cd-4a69-af87-96a2d27e17bc"
      },
      "source": [
        "from tensorflow.keras.utils import image_dataset_from_directory\n",
        "\n",
        "train_dataset = image_dataset_from_directory(\n",
        "    \"Picasso_Rubens_400_100_100/train\",\n",
        "    image_size=(180, 180),\n",
        "    batch_size=32)\n",
        "\n",
        "validation_dataset = image_dataset_from_directory(\n",
        "    \"Picasso_Rubens_400_100_100/validation\",\n",
        "    image_size=(180, 180),\n",
        "    batch_size=32)\n",
        "\n",
        "test_dataset = image_dataset_from_directory(\n",
        "    \"Picasso_Rubens_400_100_100/test\",\n",
        "    image_size=(180, 180),\n",
        "    batch_size=32)"
      ],
      "execution_count": 3,
      "outputs": [
        {
          "output_type": "stream",
          "name": "stdout",
          "text": [
            "Found 800 files belonging to 2 classes.\n",
            "Found 200 files belonging to 2 classes.\n",
            "Found 200 files belonging to 2 classes.\n"
          ]
        }
      ]
    },
    {
      "cell_type": "code",
      "metadata": {
        "id": "l7-SNLXOlByE"
      },
      "source": [
        "from tensorflow import keras\n",
        "from tensorflow.keras import layers\n",
        "\n",
        "inputs = keras.Input(shape=(180, 180, 3))\n",
        "x = layers.Rescaling(1./255)(inputs)\n",
        "x = layers.Conv2D(filters=32, kernel_size=3, activation=\"relu\")(x)\n",
        "x = layers.MaxPooling2D(pool_size=2)(x)\n",
        "x = layers.Conv2D(filters=64, kernel_size=3, activation=\"relu\")(x)\n",
        "x = layers.MaxPooling2D(pool_size=2)(x)\n",
        "x = layers.Conv2D(filters=128, kernel_size=3, activation=\"relu\")(x)\n",
        "x = layers.MaxPooling2D(pool_size=2)(x)\n",
        "x = layers.Conv2D(filters=256, kernel_size=3, activation=\"relu\")(x)\n",
        "x = layers.MaxPooling2D(pool_size=2)(x)\n",
        "x = layers.Conv2D(filters=256, kernel_size=3, activation=\"relu\")(x)\n",
        "x = layers.Flatten()(x)\n",
        "outputs = layers.Dense(1, activation=\"sigmoid\")(x)\n",
        "model = keras.Model(inputs=inputs, outputs=outputs)"
      ],
      "execution_count": 4,
      "outputs": []
    },
    {
      "cell_type": "code",
      "metadata": {
        "id": "KgVG0lLDlEbX"
      },
      "source": [
        "model.compile(loss=\"binary_crossentropy\",\n",
        "              optimizer=\"rmsprop\",\n",
        "              metrics=[\"accuracy\"])"
      ],
      "execution_count": 5,
      "outputs": []
    },
    {
      "cell_type": "code",
      "metadata": {
        "id": "0IDRTP9ulH_T"
      },
      "source": [
        "callbacks = [keras.callbacks.ModelCheckpoint(\n",
        "    filepath=\"convnet_from_scratch.keras\",\n",
        "    save_best_only=True,\n",
        "    monitor=\"val_loss\")\n",
        "]"
      ],
      "execution_count": 6,
      "outputs": []
    },
    {
      "cell_type": "code",
      "metadata": {
        "colab": {
          "base_uri": "https://localhost:8080/"
        },
        "id": "VofJbjTYlJuE",
        "outputId": "6d001ebd-ca8c-49ce-aa9e-a804a6d97b48"
      },
      "source": [
        "history = model.fit(\n",
        "    train_dataset,\n",
        "    epochs=30,\n",
        "    validation_data=validation_dataset,\n",
        "    callbacks=callbacks)"
      ],
      "execution_count": 7,
      "outputs": [
        {
          "output_type": "stream",
          "name": "stdout",
          "text": [
            "Epoch 1/30\n",
            "25/25 [==============================] - 18s 219ms/step - loss: 0.9529 - accuracy: 0.4663 - val_loss: 0.6919 - val_accuracy: 0.5000\n",
            "Epoch 2/30\n",
            "25/25 [==============================] - 6s 200ms/step - loss: 0.6754 - accuracy: 0.6000 - val_loss: 0.6525 - val_accuracy: 0.7250\n",
            "Epoch 3/30\n",
            "25/25 [==============================] - 6s 201ms/step - loss: 0.6821 - accuracy: 0.5825 - val_loss: 0.6134 - val_accuracy: 0.7050\n",
            "Epoch 4/30\n",
            "25/25 [==============================] - 6s 201ms/step - loss: 0.6702 - accuracy: 0.7513 - val_loss: 0.4375 - val_accuracy: 0.8100\n",
            "Epoch 5/30\n",
            "25/25 [==============================] - 6s 202ms/step - loss: 0.5360 - accuracy: 0.7625 - val_loss: 0.4221 - val_accuracy: 0.8200\n",
            "Epoch 6/30\n",
            "25/25 [==============================] - 6s 204ms/step - loss: 0.5636 - accuracy: 0.7650 - val_loss: 0.4461 - val_accuracy: 0.7850\n",
            "Epoch 7/30\n",
            "25/25 [==============================] - 6s 200ms/step - loss: 0.4520 - accuracy: 0.7950 - val_loss: 0.4386 - val_accuracy: 0.8000\n",
            "Epoch 8/30\n",
            "25/25 [==============================] - 6s 202ms/step - loss: 0.5498 - accuracy: 0.7600 - val_loss: 0.6431 - val_accuracy: 0.6650\n",
            "Epoch 9/30\n",
            "25/25 [==============================] - 6s 202ms/step - loss: 0.4364 - accuracy: 0.7862 - val_loss: 0.4063 - val_accuracy: 0.8450\n",
            "Epoch 10/30\n",
            "25/25 [==============================] - 6s 201ms/step - loss: 0.4585 - accuracy: 0.7850 - val_loss: 0.3995 - val_accuracy: 0.8400\n",
            "Epoch 11/30\n",
            "25/25 [==============================] - 6s 201ms/step - loss: 0.4520 - accuracy: 0.8012 - val_loss: 0.3926 - val_accuracy: 0.8400\n",
            "Epoch 12/30\n",
            "25/25 [==============================] - 6s 209ms/step - loss: 0.3940 - accuracy: 0.8175 - val_loss: 0.4251 - val_accuracy: 0.8650\n",
            "Epoch 13/30\n",
            "25/25 [==============================] - 6s 199ms/step - loss: 0.4471 - accuracy: 0.8150 - val_loss: 0.4108 - val_accuracy: 0.8200\n",
            "Epoch 14/30\n",
            "25/25 [==============================] - 6s 203ms/step - loss: 0.3230 - accuracy: 0.8512 - val_loss: 0.3813 - val_accuracy: 0.8600\n",
            "Epoch 15/30\n",
            "25/25 [==============================] - 6s 200ms/step - loss: 0.4453 - accuracy: 0.8388 - val_loss: 0.3965 - val_accuracy: 0.8350\n",
            "Epoch 16/30\n",
            "25/25 [==============================] - 6s 201ms/step - loss: 0.3352 - accuracy: 0.8350 - val_loss: 0.4618 - val_accuracy: 0.8400\n",
            "Epoch 17/30\n",
            "25/25 [==============================] - 6s 200ms/step - loss: 0.3515 - accuracy: 0.8425 - val_loss: 0.4615 - val_accuracy: 0.7950\n",
            "Epoch 18/30\n",
            "25/25 [==============================] - 6s 209ms/step - loss: 0.2926 - accuracy: 0.8700 - val_loss: 0.4604 - val_accuracy: 0.8300\n",
            "Epoch 19/30\n",
            "25/25 [==============================] - 6s 199ms/step - loss: 0.2718 - accuracy: 0.8700 - val_loss: 0.3821 - val_accuracy: 0.8450\n",
            "Epoch 20/30\n",
            "25/25 [==============================] - 6s 201ms/step - loss: 0.2990 - accuracy: 0.8700 - val_loss: 0.3922 - val_accuracy: 0.8500\n",
            "Epoch 21/30\n",
            "25/25 [==============================] - 6s 203ms/step - loss: 0.3184 - accuracy: 0.9000 - val_loss: 0.3946 - val_accuracy: 0.8550\n",
            "Epoch 22/30\n",
            "25/25 [==============================] - 6s 203ms/step - loss: 0.1701 - accuracy: 0.9362 - val_loss: 0.4399 - val_accuracy: 0.8500\n",
            "Epoch 23/30\n",
            "25/25 [==============================] - 6s 205ms/step - loss: 0.3026 - accuracy: 0.9000 - val_loss: 0.5017 - val_accuracy: 0.8500\n",
            "Epoch 24/30\n",
            "25/25 [==============================] - 6s 202ms/step - loss: 0.1528 - accuracy: 0.9388 - val_loss: 0.5281 - val_accuracy: 0.8750\n",
            "Epoch 25/30\n",
            "25/25 [==============================] - 6s 202ms/step - loss: 0.2054 - accuracy: 0.9312 - val_loss: 0.6257 - val_accuracy: 0.8350\n",
            "Epoch 26/30\n",
            "25/25 [==============================] - 6s 201ms/step - loss: 0.1919 - accuracy: 0.9325 - val_loss: 0.5154 - val_accuracy: 0.8450\n",
            "Epoch 27/30\n",
            "25/25 [==============================] - 6s 201ms/step - loss: 0.1455 - accuracy: 0.9375 - val_loss: 0.4587 - val_accuracy: 0.8150\n",
            "Epoch 28/30\n",
            "25/25 [==============================] - 6s 209ms/step - loss: 0.1253 - accuracy: 0.9588 - val_loss: 0.7113 - val_accuracy: 0.8200\n",
            "Epoch 29/30\n",
            "25/25 [==============================] - 6s 202ms/step - loss: 0.1000 - accuracy: 0.9650 - val_loss: 0.5714 - val_accuracy: 0.8800\n",
            "Epoch 30/30\n",
            "25/25 [==============================] - 6s 200ms/step - loss: 0.1533 - accuracy: 0.9625 - val_loss: 0.4500 - val_accuracy: 0.8650\n"
          ]
        }
      ]
    },
    {
      "cell_type": "code",
      "metadata": {
        "colab": {
          "base_uri": "https://localhost:8080/",
          "height": 545
        },
        "id": "mQl8WfvwlMlR",
        "outputId": "07b2638c-0b74-43f1-d072-5397397b6d4f"
      },
      "source": [
        "import matplotlib.pyplot as plt\n",
        "accuracy = history.history[\"accuracy\"]\n",
        "val_accuracy = history.history[\"val_accuracy\"]\n",
        "loss = history.history[\"loss\"]\n",
        "val_loss = history.history[\"val_loss\"]\n",
        "epochs = range(1, len(accuracy) + 1)\n",
        "plt.plot(epochs, accuracy, \"bo\", label=\"Training accuracy\")\n",
        "plt.plot(epochs, val_accuracy, \"b\", label=\"Validation accuracy\")\n",
        "plt.title(\"Training and validation accuracy\")\n",
        "plt.legend()\n",
        "plt.figure()\n",
        "plt.plot(epochs, loss, \"bo\", label=\"Training loss\")\n",
        "plt.plot(epochs, val_loss, \"b\", label=\"Validation loss\")\n",
        "plt.title(\"Training and validation loss\")\n",
        "plt.legend()\n",
        "plt.show()"
      ],
      "execution_count": 8,
      "outputs": [
        {
          "output_type": "display_data",
          "data": {
            "image/png": "[encoded data removed]",
            "text/plain": [
              "<Figure size 432x288 with 1 Axes>"
            ]
          },
          "metadata": {
            "needs_background": "light"
          }
        },
        {
          "output_type": "display_data",
          "data": {
            "image/png": "[encoded data removed]",
            "text/plain": [
              "<Figure size 432x288 with 1 Axes>"
            ]
          },
          "metadata": {
            "needs_background": "light"
          }
        }
      ]
    },
    {
      "cell_type": "code",
      "metadata": {
        "colab": {
          "base_uri": "https://localhost:8080/"
        },
        "id": "r498OI33lO4_",
        "outputId": "9c7e02e6-7efa-4455-eed4-359d7c16ad1e"
      },
      "source": [
        "test_model = keras.models.load_model(\"convnet_from_scratch.keras\")\n",
        "test_loss, test_acc = test_model.evaluate(test_dataset)\n",
        "print(f\"Test accuracy: {test_acc:.3f}\")"
      ],
      "execution_count": 9,
      "outputs": [
        {
          "output_type": "stream",
          "name": "stdout",
          "text": [
            "7/7 [==============================] - 1s 28ms/step - loss: 0.3372 - accuracy: 0.8800\n",
            "Test accuracy: 0.880\n"
          ]
        }
      ]
    }
  ]
}